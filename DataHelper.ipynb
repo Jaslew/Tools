{
 "cells": [
  {
   "cell_type": "code",
   "execution_count": null,
   "metadata": {},
   "outputs": [],
   "source": [
    "#!/usr/bin/env python\n",
    "# coding: utf-8\n",
    "\n",
    "import os\n",
    "import zipfile\n",
    "import moxing as mox\n",
    "import subprocess\n",
    "\n",
    "local_dir = '../work'\n",
    "s3_dir = 's3://lauer/test'\n",
    "mox.file.shift('os', 'mox')\n",
    "\n",
    "def get_data(file):\n",
    "    mox.file.copy(os.path.join(s3_dir, file), os.path.join(local_dir, file))\n",
    "    \n",
    "def save_data(file):\n",
    "    mox.file.copy(os.path.join(local_dir, file), os.path.join(s3_dir, file))\n",
    "              \n",
    "def unzip(file):\n",
    "    z = zipfile.ZipFile(os.path.join(local_dir, file), 'r')\n",
    "    z.extractall(local_dir)\n",
    "    z.close()\n",
    "    os.remove(os.path.join(local_dir, file))\n",
    "\n",
    "def del_data(file):\n",
    "    os.remove(os.path.join(local_dir, file))\n",
    "\n",
    "def exe(command):\n",
    "    p=subprocess.Popen(command, shell = True, stdout=subprocess.PIPE)\n",
    "    print(p.stdout.readlines())"
   ]
  },
  {
   "cell_type": "code",
   "execution_count": null,
   "metadata": {},
   "outputs": [],
   "source": [
    "#查看桶目录文件\n",
    "print(os.listdir(s3_dir))"
   ]
  },
  {
   "cell_type": "code",
   "execution_count": null,
   "metadata": {},
   "outputs": [],
   "source": [
    "#查看本地目录文件\n",
    "print(os.listdir(local_dir))"
   ]
  }
 ],
 "metadata": {
  "kernelspec": {
   "display_name": "Python 3",
   "language": "python",
   "name": "python3"
  },
  "language_info": {
   "codemirror_mode": {
    "name": "ipython",
    "version": 3
   },
   "file_extension": ".py",
   "mimetype": "text/x-python",
   "name": "python",
   "nbconvert_exporter": "python",
   "pygments_lexer": "ipython3",
   "version": "3.7.4"
  }
 },
 "nbformat": 4,
 "nbformat_minor": 2
}
